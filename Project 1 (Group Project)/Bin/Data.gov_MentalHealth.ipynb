{
 "cells": [
  {
   "cell_type": "code",
   "execution_count": 1,
   "metadata": {},
   "outputs": [
    {
     "data": {
      "application/javascript": [
       "IPython.notebook.set_autosave_interval(300000)"
      ]
     },
     "metadata": {},
     "output_type": "display_data"
    },
    {
     "name": "stdout",
     "output_type": "stream",
     "text": [
      "Autosaving every 300 seconds\n"
     ]
    }
   ],
   "source": [
    "# Initialising and importing\n",
    "%autosave 300\n",
    "import pandas as pd"
   ]
  },
  {
   "cell_type": "code",
   "execution_count": 2,
   "metadata": {},
   "outputs": [],
   "source": [
    "# Saving file path for csv file to clean\n",
    "csv_path = '../Resources/Data.gov/US_CDI.csv'"
   ]
  },
  {
   "cell_type": "code",
   "execution_count": 3,
   "metadata": {},
   "outputs": [
    {
     "name": "stderr",
     "output_type": "stream",
     "text": [
      "C:\\Users\\brian\\Anaconda3\\lib\\site-packages\\IPython\\core\\interactiveshell.py:3020: DtypeWarning: Columns (7,10,18,19,20,21,23,30,31,32,33) have mixed types. Specify dtype option on import or set low_memory=False.\n",
      "  interactivity=interactivity, compiler=compiler, result=result)\n"
     ]
    }
   ],
   "source": [
    "data_gov_raw = pd.read_csv(csv_path)"
   ]
  },
  {
   "cell_type": "code",
   "execution_count": 14,
   "metadata": {},
   "outputs": [],
   "source": [
    "#data_gov_raw.head()"
   ]
  },
  {
   "cell_type": "code",
   "execution_count": 5,
   "metadata": {},
   "outputs": [],
   "source": [
    "#data_gov_raw.columns"
   ]
  },
  {
   "cell_type": "code",
   "execution_count": 6,
   "metadata": {},
   "outputs": [],
   "source": [
    "#data_gov_raw.dtypes"
   ]
  },
  {
   "cell_type": "code",
   "execution_count": 7,
   "metadata": {},
   "outputs": [],
   "source": [
    "# Take only Recent mentally unhealthy...\n",
    "data_gov_MentalHealth = data_gov_raw.loc[(data_gov_raw['Topic'] == 'Mental Health')\n",
    "                                          & (data_gov_raw['Question'] == 'Recent mentally unhealthy days among adults aged >= 18 years')]"
   ]
  },
  {
   "cell_type": "code",
   "execution_count": 8,
   "metadata": {},
   "outputs": [],
   "source": [
    "# Taking relevant columns\n",
    "data_gov_MentalHealth = data_gov_MentalHealth.iloc[:, [0, 2, 3, 10, 11, 14, 15, 22, 24, 28]]"
   ]
  },
  {
   "cell_type": "code",
   "execution_count": 9,
   "metadata": {},
   "outputs": [],
   "source": [
    "data_gov_MentalHealth.columns = ['Year', 'Location Short', 'Location', 'Data Value 1',\n",
    "       'Data Value 2', 'Low Confidence Limit', 'High Confidence Limit',\n",
    "       'Lat and Long', 'Location ID', 'Category']"
   ]
  },
  {
   "cell_type": "code",
   "execution_count": 10,
   "metadata": {},
   "outputs": [],
   "source": [
    "data_gov_MentalHealth['Data Value 1'] = pd.to_numeric(data_gov_MentalHealth['Data Value 1'])"
   ]
  },
  {
   "cell_type": "code",
   "execution_count": 15,
   "metadata": {},
   "outputs": [
    {
     "data": {
      "text/html": [
       "<div>\n",
       "<style scoped>\n",
       "    .dataframe tbody tr th:only-of-type {\n",
       "        vertical-align: middle;\n",
       "    }\n",
       "\n",
       "    .dataframe tbody tr th {\n",
       "        vertical-align: top;\n",
       "    }\n",
       "\n",
       "    .dataframe thead th {\n",
       "        text-align: right;\n",
       "    }\n",
       "</style>\n",
       "<table border=\"1\" class=\"dataframe\">\n",
       "  <thead>\n",
       "    <tr style=\"text-align: right;\">\n",
       "      <th></th>\n",
       "      <th>Year</th>\n",
       "      <th>Location Short</th>\n",
       "      <th>Location</th>\n",
       "      <th>Data Value 1</th>\n",
       "      <th>Data Value 2</th>\n",
       "      <th>Low Confidence Limit</th>\n",
       "      <th>High Confidence Limit</th>\n",
       "      <th>Lat and Long</th>\n",
       "      <th>Location ID</th>\n",
       "      <th>Category</th>\n",
       "    </tr>\n",
       "  </thead>\n",
       "  <tbody>\n",
       "    <tr>\n",
       "      <th>16060</th>\n",
       "      <td>2016</td>\n",
       "      <td>UT</td>\n",
       "      <td>Utah</td>\n",
       "      <td>2.9</td>\n",
       "      <td>2.9</td>\n",
       "      <td>2.7</td>\n",
       "      <td>3.2</td>\n",
       "      <td>(39.360700171000474, -111.58713063499971)</td>\n",
       "      <td>49</td>\n",
       "      <td>GENDER</td>\n",
       "    </tr>\n",
       "    <tr>\n",
       "      <th>16142</th>\n",
       "      <td>2016</td>\n",
       "      <td>VT</td>\n",
       "      <td>Vermont</td>\n",
       "      <td>3.5</td>\n",
       "      <td>3.5</td>\n",
       "      <td>3.1</td>\n",
       "      <td>3.9</td>\n",
       "      <td>(43.62538123900049, -72.51764079099962)</td>\n",
       "      <td>50</td>\n",
       "      <td>GENDER</td>\n",
       "    </tr>\n",
       "    <tr>\n",
       "      <th>16437</th>\n",
       "      <td>2016</td>\n",
       "      <td>VA</td>\n",
       "      <td>Virginia</td>\n",
       "      <td>2.7</td>\n",
       "      <td>2.7</td>\n",
       "      <td>2.4</td>\n",
       "      <td>3.0</td>\n",
       "      <td>(37.54268067400045, -78.45789046299967)</td>\n",
       "      <td>51</td>\n",
       "      <td>GENDER</td>\n",
       "    </tr>\n",
       "    <tr>\n",
       "      <th>17827</th>\n",
       "      <td>2016</td>\n",
       "      <td>PR</td>\n",
       "      <td>Puerto Rico</td>\n",
       "      <td>3.8</td>\n",
       "      <td>3.8</td>\n",
       "      <td>3.5</td>\n",
       "      <td>4.1</td>\n",
       "      <td>(18.220833, -66.590149)</td>\n",
       "      <td>72</td>\n",
       "      <td>OVERALL</td>\n",
       "    </tr>\n",
       "    <tr>\n",
       "      <th>17919</th>\n",
       "      <td>2016</td>\n",
       "      <td>IL</td>\n",
       "      <td>Illinois</td>\n",
       "      <td>3.0</td>\n",
       "      <td>3.0</td>\n",
       "      <td>2.6</td>\n",
       "      <td>3.4</td>\n",
       "      <td>(40.48501028300046, -88.99771017799969)</td>\n",
       "      <td>17</td>\n",
       "      <td>GENDER</td>\n",
       "    </tr>\n",
       "  </tbody>\n",
       "</table>\n",
       "</div>"
      ],
      "text/plain": [
       "       Year Location Short     Location  Data Value 1  Data Value 2  \\\n",
       "16060  2016             UT         Utah           2.9           2.9   \n",
       "16142  2016             VT      Vermont           3.5           3.5   \n",
       "16437  2016             VA     Virginia           2.7           2.7   \n",
       "17827  2016             PR  Puerto Rico           3.8           3.8   \n",
       "17919  2016             IL     Illinois           3.0           3.0   \n",
       "\n",
       "       Low Confidence Limit  High Confidence Limit  \\\n",
       "16060                   2.7                    3.2   \n",
       "16142                   3.1                    3.9   \n",
       "16437                   2.4                    3.0   \n",
       "17827                   3.5                    4.1   \n",
       "17919                   2.6                    3.4   \n",
       "\n",
       "                                    Lat and Long  Location ID Category  \n",
       "16060  (39.360700171000474, -111.58713063499971)           49   GENDER  \n",
       "16142    (43.62538123900049, -72.51764079099962)           50   GENDER  \n",
       "16437    (37.54268067400045, -78.45789046299967)           51   GENDER  \n",
       "17827                    (18.220833, -66.590149)           72  OVERALL  \n",
       "17919    (40.48501028300046, -88.99771017799969)           17   GENDER  "
      ]
     },
     "execution_count": 15,
     "metadata": {},
     "output_type": "execute_result"
    }
   ],
   "source": [
    "data_gov_MentalHealth.head()"
   ]
  },
  {
   "cell_type": "code",
   "execution_count": 18,
   "metadata": {},
   "outputs": [],
   "source": [
    "data_gov_MentalHealth = data_gov_MentalHealth.loc[data_gov_MentalHealth['Category'] == 'GENDER']"
   ]
  },
  {
   "cell_type": "code",
   "execution_count": 19,
   "metadata": {},
   "outputs": [],
   "source": [
    "data_gov_MentalHealth.to_csv(path_or_buf = '../Resources/Data.gov/US_CDI_MentalHealth_map.csv')"
   ]
  },
  {
   "cell_type": "code",
   "execution_count": null,
   "metadata": {},
   "outputs": [],
   "source": []
  }
 ],
 "metadata": {
  "kernelspec": {
   "display_name": "Python 3",
   "language": "python",
   "name": "python3"
  },
  "language_info": {
   "codemirror_mode": {
    "name": "ipython",
    "version": 3
   },
   "file_extension": ".py",
   "mimetype": "text/x-python",
   "name": "python",
   "nbconvert_exporter": "python",
   "pygments_lexer": "ipython3",
   "version": "3.7.1"
  }
 },
 "nbformat": 4,
 "nbformat_minor": 2
}
